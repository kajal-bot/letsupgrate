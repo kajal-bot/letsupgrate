{
  "nbformat": 4,
  "nbformat_minor": 0,
  "metadata": {
    "colab": {
      "name": "ass1",
      "provenance": [],
      "collapsed_sections": [],
      "authorship_tag": "ABX9TyN9rzSuhUcfrKvPYR+o/gR2",
      "include_colab_link": true
    },
    "kernelspec": {
      "name": "python3",
      "display_name": "Python 3"
    }
  },
  "cells": [
    {
      "cell_type": "markdown",
      "metadata": {
        "id": "view-in-github",
        "colab_type": "text"
      },
      "source": [
        "<a href=\"https://colab.research.google.com/github/kajal-bot/letsupgrate/blob/master/ass1.ipynb\" target=\"_parent\"><img src=\"https://colab.research.google.com/assets/colab-badge.svg\" alt=\"Open In Colab\"/></a>"
      ]
    },
    {
      "cell_type": "code",
      "metadata": {
        "id": "kVS9mpF8N2i1",
        "colab_type": "code",
        "colab": {
          "base_uri": "https://localhost:8080/",
          "height": 34
        },
        "outputId": "7e1cd94f-12f7-4a17-b6ce-9f7afd2065fc"
      },
      "source": [
        "\n",
        "\n",
        "lst =[\"kajal\",10,23,123.5,222]\n",
        "\n",
        "lst\n",
        "\n",
        "lst.append(\"yash\")\n",
        "lst\n",
        "lst.copy()"
      ],
      "execution_count": null,
      "outputs": [
        {
          "output_type": "execute_result",
          "data": {
            "text/plain": [
              "['kajal', 10, 23, 123.5, 222, 'yash']"
            ]
          },
          "metadata": {
            "tags": []
          },
          "execution_count": 46
        }
      ]
    },
    {
      "cell_type": "markdown",
      "metadata": {
        "id": "-dasx1fg2n44",
        "colab_type": "text"
      },
      "source": [
        ""
      ]
    },
    {
      "cell_type": "code",
      "metadata": {
        "id": "Z4JDXUUv2pi-",
        "colab_type": "code",
        "colab": {
          "base_uri": "https://localhost:8080/",
          "height": 34
        },
        "outputId": "3206eccb-316a-4868-b631-1083e1a8df50"
      },
      "source": [
        "lst=[\"ravi\",1.2,[1,2,3],\"rohan\"]\n",
        "lst\n",
        "lst.pop(2)"
      ],
      "execution_count": null,
      "outputs": [
        {
          "output_type": "execute_result",
          "data": {
            "text/plain": [
              "[1, 2, 3]"
            ]
          },
          "metadata": {
            "tags": []
          },
          "execution_count": 47
        }
      ]
    },
    {
      "cell_type": "code",
      "metadata": {
        "id": "2h8z-ZzO4KYk",
        "colab_type": "code",
        "colab": {
          "base_uri": "https://localhost:8080/",
          "height": 34
        },
        "outputId": "4958efe6-ba0d-455e-c853-cca5621b99c1"
      },
      "source": [
        "lst=[\"abc\",\"xyz\",1.5,2.6,11]\n",
        "lst\n",
        "lst.count(1.5)"
      ],
      "execution_count": null,
      "outputs": [
        {
          "output_type": "execute_result",
          "data": {
            "text/plain": [
              "1"
            ]
          },
          "metadata": {
            "tags": []
          },
          "execution_count": 48
        }
      ]
    },
    {
      "cell_type": "code",
      "metadata": {
        "id": "gMqbWjwL40bv",
        "colab_type": "code",
        "colab": {
          "base_uri": "https://localhost:8080/",
          "height": 34
        },
        "outputId": "0f717875-b0ea-44b5-cd5a-26bf029031a5"
      },
      "source": [
        "lst=[\"raj\",\"sai\",23,\"xyz\"]\n",
        "lst\n",
        "lst.index(23)"
      ],
      "execution_count": null,
      "outputs": [
        {
          "output_type": "execute_result",
          "data": {
            "text/plain": [
              "2"
            ]
          },
          "metadata": {
            "tags": []
          },
          "execution_count": 49
        }
      ]
    },
    {
      "cell_type": "code",
      "metadata": {
        "id": "G_ZXNofS6eM3",
        "colab_type": "code",
        "colab": {}
      },
      "source": [
        ""
      ],
      "execution_count": null,
      "outputs": []
    },
    {
      "cell_type": "markdown",
      "metadata": {
        "id": "dUOWdZlW6g3R",
        "colab_type": "text"
      },
      "source": [
        "# Dictionaries\n"
      ]
    },
    {
      "cell_type": "code",
      "metadata": {
        "id": "wBTx8JWF6nY_",
        "colab_type": "code",
        "colab": {
          "base_uri": "https://localhost:8080/",
          "height": 34
        },
        "outputId": "ca8718bc-775b-4ee6-906e-d2d4a37c8a55"
      },
      "source": [
        "dit={\"name\":\"kajal\",\"age\":25,\"job\":\"MR\"}\n",
        "print(dit)"
      ],
      "execution_count": null,
      "outputs": [
        {
          "output_type": "stream",
          "text": [
            "{'name': 'kajal', 'age': 25, 'job': 'MR'}\n"
          ],
          "name": "stdout"
        }
      ]
    },
    {
      "cell_type": "code",
      "metadata": {
        "id": "LXBrsmuY8EZW",
        "colab_type": "code",
        "colab": {
          "base_uri": "https://localhost:8080/",
          "height": 170
        },
        "outputId": "67af540a-0118-43d3-a2e1-dbc3d49d34e7"
      },
      "source": [
        "dit={\"name\":\"akki\",\"age\":30,\"job\":\"CA\"}\n",
        "print(dit)\n",
        "#print keys\n",
        "dit['age']=26\n",
        "print(dit.keys())\n",
        "#Add new item\n",
        "dit[\"school\"]=\"nutan\"\n",
        "print(\"\\n dict item :\",dit)\n",
        "#pop item\n",
        "print(\"\\n removed item :\",dit.popitem())\n",
        "print(\"\\n dict item :\",dit)\n",
        "#update\n",
        "dit.update({'ran':'house','show':'two'})\n",
        "print(dit)\n"
      ],
      "execution_count": null,
      "outputs": [
        {
          "output_type": "stream",
          "text": [
            "{'name': 'akki', 'age': 30, 'job': 'CA'}\n",
            "dict_keys(['name', 'age', 'job'])\n",
            "\n",
            " dict item : {'name': 'akki', 'age': 26, 'job': 'CA', 'school': 'nutan'}\n",
            "\n",
            " removed item : ('school', 'nutan')\n",
            "\n",
            " dict item : {'name': 'akki', 'age': 26, 'job': 'CA'}\n",
            "{'name': 'akki', 'age': 26, 'job': 'CA', 'ran': 'house', 'show': 'two'}\n"
          ],
          "name": "stdout"
        }
      ]
    },
    {
      "cell_type": "code",
      "metadata": {
        "id": "jeftv4jCGREn",
        "colab_type": "code",
        "colab": {}
      },
      "source": [
        ""
      ],
      "execution_count": null,
      "outputs": []
    },
    {
      "cell_type": "markdown",
      "metadata": {
        "id": "lrryWWbUGSe-",
        "colab_type": "text"
      },
      "source": [
        "## **SETS**\n"
      ]
    },
    {
      "cell_type": "code",
      "metadata": {
        "id": "9_2p3WSCGYa7",
        "colab_type": "code",
        "colab": {
          "base_uri": "https://localhost:8080/",
          "height": 119
        },
        "outputId": "76a54fb8-45bd-4de6-bb3d-1116680e39ba"
      },
      "source": [
        "st={10,20,30,40,50}\n",
        "print(st)\n",
        "#add tuplr to  set\n",
        "tup=(120,140,11)\n",
        "st.add(tup)\n",
        "print(\"new items=\",st)\n",
        "#copy set\n",
        "copy_of_st =st.copy()\n",
        "print(copy_of_st)\n"
      ],
      "execution_count": null,
      "outputs": [
        {
          "output_type": "stream",
          "text": [
            "{40, 10, 50, 20, 30}\n",
            "new items= {(120, 140, 11), 40, 10, 50, 20, 30}\n",
            "{(120, 140, 11), 50, 20, 40, 10, 30}\n",
            "{40, 10, 50, 20, 30}\n",
            "new items= {(120, 140, 11), 40, 10, 50, 20, 30}\n",
            "{(120, 140, 11), 50, 20, 40, 10, 30}\n"
          ],
          "name": "stdout"
        }
      ]
    },
    {
      "cell_type": "code",
      "metadata": {
        "id": "MHxcKkiRJMBW",
        "colab_type": "code",
        "colab": {}
      },
      "source": [
        ""
      ],
      "execution_count": null,
      "outputs": []
    },
    {
      "cell_type": "markdown",
      "metadata": {
        "id": "ADUE0nvQJNI2",
        "colab_type": "text"
      },
      "source": [
        "# TUple"
      ]
    },
    {
      "cell_type": "code",
      "metadata": {
        "id": "ZSm1nB-WJQyW",
        "colab_type": "code",
        "colab": {
          "base_uri": "https://localhost:8080/",
          "height": 51
        },
        "outputId": "3c98e932-a834-441c-f7b9-dae6a74bf88d"
      },
      "source": [
        "tup =(\"kaj\",1,6,11,\"rj\",8)\n",
        "print(tup)\n",
        "#count\n",
        "tup.count(11)\n",
        "#index\n",
        "tup.index('rj')"
      ],
      "execution_count": null,
      "outputs": [
        {
          "output_type": "stream",
          "text": [
            "('kaj', 1, 6, 11, 'rj', 8)\n"
          ],
          "name": "stdout"
        },
        {
          "output_type": "execute_result",
          "data": {
            "text/plain": [
              "4"
            ]
          },
          "metadata": {
            "tags": []
          },
          "execution_count": 63
        }
      ]
    },
    {
      "cell_type": "markdown",
      "metadata": {
        "id": "drquBqcNKA51",
        "colab_type": "text"
      },
      "source": [
        "# Boolen"
      ]
    },
    {
      "cell_type": "markdown",
      "metadata": {
        "id": "NgBwOrP4LJpn",
        "colab_type": "text"
      },
      "source": [
        "IT is useful only to show thwe condition is true or not"
      ]
    }
  ]
}